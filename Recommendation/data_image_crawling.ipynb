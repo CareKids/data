{
 "cells": [
  {
   "cell_type": "code",
   "execution_count": 1,
   "id": "eaa6537d",
   "metadata": {},
   "outputs": [],
   "source": [
    "import pandas as pd\n",
    "from selenium import webdriver\n",
    "from bs4 import BeautifulSoup\n",
    "from selenium.webdriver.common.by import By\n",
    "from selenium.webdriver.common.keys import Keys\n",
    "import time\n",
    "import os\n",
    "import requests\n",
    "from PIL import Image\n",
    "from io import BytesIO\n",
    "from selenium.webdriver.support.ui import WebDriverWait\n",
    "from selenium.webdriver.support import expected_conditions as EC"
   ]
  },
  {
   "cell_type": "code",
   "execution_count": 2,
   "id": "09337262",
   "metadata": {},
   "outputs": [
    {
     "data": {
      "text/plain": [
       "1566"
      ]
     },
     "execution_count": 2,
     "metadata": {},
     "output_type": "execute_result"
    }
   ],
   "source": [
    "df = pd.read_csv('data_최종.csv')\n",
    "len(df)"
   ]
  },
  {
   "cell_type": "code",
   "execution_count": 3,
   "id": "0106305f",
   "metadata": {},
   "outputs": [],
   "source": [
    "df_image_ok = df.loc[df['대표이미지'].notnull()] \n",
    "df_image_ok_ind = df['대표이미지'].loc[df['대표이미지'].notnull()].index.tolist()\n",
    "df_image_not_ok = df.drop(df_image_ok_ind)"
   ]
  },
  {
   "cell_type": "code",
   "execution_count": 4,
   "id": "2876947a",
   "metadata": {},
   "outputs": [
    {
     "data": {
      "text/plain": [
       "888"
      ]
     },
     "execution_count": 4,
     "metadata": {},
     "output_type": "execute_result"
    }
   ],
   "source": [
    "df_image_not_ok.loc[df_image_not_ok['대표이미지'].isna()]\n",
    "df_image_not_ok['대표이미지'].isna().sum()"
   ]
  },
  {
   "cell_type": "markdown",
   "id": "b4dfdf7d",
   "metadata": {},
   "source": [
    "## Naver Crawling 통해 대표 이미지 url가져오기\n",
    "- 주소 + 시설명 검색 안되면 시설명으로만 검색해서 crawling"
   ]
  },
  {
   "cell_type": "code",
   "execution_count": 1,
   "id": "1d87f755",
   "metadata": {
    "scrolled": true
   },
   "outputs": [],
   "source": [
    "# 네이버 길찾기에 키워드 넣어서 가져오기 \n",
    "driver = webdriver.Chrome()\n",
    "\n",
    "# output_dir = 'culture_images'\n",
    "# os.makedirs(output_dir,exist_ok = True)\n",
    "\n",
    "\n",
    "def search_and_click(query):\n",
    "    # 네이버 검색창에서 query에 해당하는 주소로 들어가기\n",
    "    url = \"https://map.naver.com/v5/search\"\n",
    "    driver.get(url)\n",
    "    time.sleep(2)  \n",
    "    \n",
    "    try:   \n",
    "        # 검색창에 쿼리 입력\n",
    "        search_box = driver.find_element(By.CSS_SELECTOR,'input.input_search')\n",
    "        search_box.send_keys(query)\n",
    "        search_box.send_keys(Keys.RETURN)\n",
    "        time.sleep(2)  # 검색 결과 로딩 대기\n",
    "        \n",
    "         # iframe 로드 및 전환\n",
    "        # iframe으로 감싸져 있는 html페이지일 경우 그 안에 소스들을 못가져옴 \n",
    "        # iframe을 변환후 다음 작업 진행 \n",
    "        iframe_element = WebDriverWait(driver, 10).until(\n",
    "        EC.presence_of_element_located((By.ID, \"entryIframe\"))\n",
    "    )\n",
    "        driver.switch_to.frame(iframe_element)\n",
    "        \n",
    "    \n",
    "        # 가져오고자 하는 이미지 클래스 \n",
    "        image_element = WebDriverWait(driver, 10).until(\n",
    "        EC.presence_of_all_elements_located((By.CSS_SELECTOR, \"img.K0PDV._div,img.K0PDV\"))\n",
    "        )\n",
    "        image_url = [img.get_attribute('src') for img in image_element]\n",
    "        \n",
    "        if image_url:\n",
    "            return image_url[0]\n",
    "        else:\n",
    "            return None\n",
    "    \n",
    "    except Exception as e:\n",
    "        print(f\"이미지를 찾을 수 없습니다\")\n",
    "        #print(f\"이미지를 찾을 수 없습니다: {query} - {e}\")\n",
    "        return None\n",
    "\n",
    "\n",
    "def search_image(row):\n",
    "    shop_name = row['콘텐츠명']\n",
    "    Id = row['중분류']\n",
    "    address_column = '새주소[도로명 주소]'\n",
    "    shop_column = '콘텐츠명'\n",
    "    \n",
    "    query = f\"{row[address_column]} {row[shop_column]}\"\n",
    "    image_url = search_and_click(query)\n",
    "    \n",
    "    if not image_url:  # 첫 번째 시도에서 실패한 경우\n",
    "        print(f\"첫 번째 시도 실패: {query},  다시 검색\")\n",
    "        query = f\"{row[shop_column]}\"\n",
    "        image_url = search_and_click(query)\n",
    "        \n",
    "    if image_url:\n",
    "        df_image_not_ok.at[index, '대표이미지'] = image_url\n",
    "        print(f\"Updated image URL for {Id} {shop_name}\")\n",
    "\n",
    "for index, row in df_image_not_ok.iterrows():\n",
    "    search_image(row)\n",
    "\n",
    "print(\"Image URL crawling and updating completed.\")\n",
    "driver.quit()"
   ]
  },
  {
   "cell_type": "code",
   "execution_count": 56,
   "id": "974f24fe",
   "metadata": {},
   "outputs": [
    {
     "data": {
      "text/plain": [
       "0     https://search.pstatic.net/common/?autoRotate=...\n",
       "1     https://simg.pstatic.net/static.map/v2/map/sta...\n",
       "2     https://search.pstatic.net/common/?autoRotate=...\n",
       "3     https://search.pstatic.net/common/?autoRotate=...\n",
       "4     https://search.pstatic.net/common/?autoRotate=...\n",
       "5     https://simg.pstatic.net/static.map/v2/map/sta...\n",
       "6     https://search.pstatic.net/common/?autoRotate=...\n",
       "7     https://search.pstatic.net/common/?autoRotate=...\n",
       "8     https://search.pstatic.net/common/?autoRotate=...\n",
       "9     https://search.pstatic.net/common/?autoRotate=...\n",
       "10    https://search.pstatic.net/common/?autoRotate=...\n",
       "11    https://search.pstatic.net/common/?autoRotate=...\n",
       "12    https://search.pstatic.net/common/?autoRotate=...\n",
       "13    https://yeyak.seoul.go.kr/cmsdata/web_upload/s...\n",
       "14    https://search.pstatic.net/common/?autoRotate=...\n",
       "15    https://search.pstatic.net/common/?autoRotate=...\n",
       "16    https://search.pstatic.net/common/?autoRotate=...\n",
       "17    https://search.pstatic.net/common/?autoRotate=...\n",
       "18    https://simg.pstatic.net/static.map/v2/map/sta...\n",
       "19    https://search.pstatic.net/common/?autoRotate=...\n",
       "Name: 대표이미지, dtype: object"
      ]
     },
     "execution_count": 56,
     "metadata": {},
     "output_type": "execute_result"
    }
   ],
   "source": [
    "df_image_not_ok['대표이미지'][:20]"
   ]
  },
  {
   "cell_type": "code",
   "execution_count": 57,
   "id": "48b0cacf",
   "metadata": {},
   "outputs": [
    {
     "data": {
      "text/html": [
       "<div>\n",
       "<style scoped>\n",
       "    .dataframe tbody tr th:only-of-type {\n",
       "        vertical-align: middle;\n",
       "    }\n",
       "\n",
       "    .dataframe tbody tr th {\n",
       "        vertical-align: top;\n",
       "    }\n",
       "\n",
       "    .dataframe thead th {\n",
       "        text-align: right;\n",
       "    }\n",
       "</style>\n",
       "<table border=\"1\" class=\"dataframe\">\n",
       "  <thead>\n",
       "    <tr style=\"text-align: right;\">\n",
       "      <th></th>\n",
       "      <th>새주소[도로명 주소]</th>\n",
       "      <th>콘텐츠명</th>\n",
       "    </tr>\n",
       "  </thead>\n",
       "  <tbody>\n",
       "    <tr>\n",
       "      <th>88</th>\n",
       "      <td>서울특별시 마포구 서강로 137</td>\n",
       "      <td>롯데리아 신촌로터리</td>\n",
       "    </tr>\n",
       "    <tr>\n",
       "      <th>173</th>\n",
       "      <td>서울특별시 동작구 흑석로11길 4</td>\n",
       "      <td>엉터리서민갈비중앙대점</td>\n",
       "    </tr>\n",
       "    <tr>\n",
       "      <th>183</th>\n",
       "      <td>서울특별시 관악구 신원로 35</td>\n",
       "      <td>순두부와 청국장  그리고 찜</td>\n",
       "    </tr>\n",
       "    <tr>\n",
       "      <th>772</th>\n",
       "      <td>서울특별시 양천구 신정로11길 50-15</td>\n",
       "      <td>키즈팡</td>\n",
       "    </tr>\n",
       "  </tbody>\n",
       "</table>\n",
       "</div>"
      ],
      "text/plain": [
       "                새주소[도로명 주소]             콘텐츠명\n",
       "88        서울특별시 마포구 서강로 137       롯데리아 신촌로터리\n",
       "173      서울특별시 동작구 흑석로11길 4      엉터리서민갈비중앙대점\n",
       "183        서울특별시 관악구 신원로 35  순두부와 청국장  그리고 찜\n",
       "772  서울특별시 양천구 신정로11길 50-15              키즈팡"
      ]
     },
     "execution_count": 57,
     "metadata": {},
     "output_type": "execute_result"
    }
   ],
   "source": [
    "df_image_not_ok.loc[df_image_not_ok['대표이미지'].isna()][['새주소[도로명 주소]','콘텐츠명']]"
   ]
  },
  {
   "cell_type": "markdown",
   "id": "fd34e38d",
   "metadata": {},
   "source": [
    "- 이미지 크롤링 못한거 채워줌"
   ]
  },
  {
   "cell_type": "code",
   "execution_count": 39,
   "id": "dc5d6ab0",
   "metadata": {},
   "outputs": [],
   "source": [
    "fill1 = df_image_not_ok['콘텐츠명'] == '삼청공원 유아숲체험원'\n",
    "df_image_not_ok.loc[fill1,'대표이미지'] = df_image_not_ok.loc[fill1,'대표이미지'].fillna('https://search.pstatic.net/common/?autoRotate=true&type=w560_sharpen&src=https%3A%2F%2Fldb-phinf.pstatic.net%2F20191110_64%2F1573348628971yXbbt_JPEG%2FgOpgXhcpit09TARcEmfde8O-.jpg')\n",
    "fill2 = df_image_not_ok['콘텐츠명'] == '꿈키움 유아숲체험원'\n",
    "df_image_not_ok.loc[fill2,'대표이미지'] = df_image_not_ok.loc[fill2,'대표이미지'].fillna('https://yeyak.seoul.go.kr/cmsdata/web_upload/svc/20240528/1716884484195OOSYT4BU33ATXB8HGKB3AQJWO.jpg')\n",
    "fill3 = df_image_not_ok['콘텐츠명'] == '숭인공원 유아숲체험원'\n",
    "df_image_not_ok.loc[fill3,'대표이미지'] = df_image_not_ok.loc[fill3,'대표이미지'].fillna('https://search.pstatic.net/common/?autoRotate=true&type=w560_sharpen&src=http%3A%2F%2Fblogfiles.naver.net%2FMjAxNzA1MjRfNzQg%2FMDAxNDk1NjE1NDA1OTU5.DYZG7OhDqydZhghoHcl46cYruTwED0vXWtVmH-2Cblcg.tB60iNzk80bXsdU0_iaVWCRZZggzNTvZGLTnMHFPdfYg.JPEG.ii202ii%2F%25C1%25BE%25B7%25CE_%25C0%25AF%25BE%25C6%25BD%25A3_%252814%2529.jpg')\n",
    "fill4 = df_image_not_ok['콘텐츠명'] == '문화예술공원 유아숲체험원'\n",
    "df_image_not_ok.loc[fill4,'대표이미지'] = df_image_not_ok.loc[fill4,'대표이미지'].fillna('https://search.pstatic.net/common/?autoRotate=true&quality=95&type=w750&src=https%3A%2F%2Fapis.naver.com%2Fplace%2Fpanorama%2Fthumbnail%2F947862831%2F0%3Fwidth%3D800%26height%3D400%26msgpad%3D1720500085951%26md%3DIwLYZCdk2svhnp%252FOiwSj9Tffp7c%253D')\n",
    "fill5 = df_image_not_ok['콘텐츠명'] == '영축산 유아숲체험원'\n",
    "df_image_not_ok.loc[fill5,'대표이미지'] = df_image_not_ok.loc[fill5,'대표이미지'].fillna('https://search.pstatic.net/common/?autoRotate=true&quality=95&type=w750&src=https%3A%2F%2Fldb-phinf.pstatic.net%2F20170621_57%2F1498006436954jcHtq_JPEG%2F186571498376.jpg')\n",
    "fill6 = df_image_not_ok['콘텐츠명'] == '북한산공원 유아숲체험원'\n",
    "df_image_not_ok.loc[fill6,'대표이미지'] = df_image_not_ok.loc[fill6,'대표이미지'].fillna('https://search.pstatic.net/common/?src=http%3A%2F%2Fblogfiles.naver.net%2FMjAyMjA2MDdfMTA4%2FMDAxNjU0NTY4MjUwNzQw.aVAiU_WdLz2ifqUITEsz2xRMIbmhkgie8KVVR3_ro7Mg.gL73RJ2xpsqw4G5CPCj5ODU1jPLrA1AOCOvGQSru-Fkg.JPEG.pyj0225%2F20220527%25A3%25DF155248.jpg&type=sc960_832')\n",
    "fill7 = df_image_not_ok['콘텐츠명'] == '수락산 유아숲체험원'\n",
    "df_image_not_ok.loc[fill7,'대표이미지'] = df_image_not_ok.loc[fill7,'대표이미지'].fillna('https://search.pstatic.net/common/?autoRotate=true&quality=95&type=w750&src=https%3A%2F%2Fapis.naver.com%2Fplace%2Fpanorama%2Fthumbnail%2F1066279992%2F0%3Fwidth%3D800%26height%3D400%26msgpad%3D1720500356304%26md%3DV20kZTwIWXwNABHP1ZVvXZW%252BuMg%253D')\n",
    "fill8 = df_image_not_ok['콘텐츠명'] == '불암산 유아숲체험장'\n",
    "df_image_not_ok.loc[fill8,'대표이미지'] = df_image_not_ok.loc[fill8,'대표이미지'].fillna('https://search.pstatic.net/common/?autoRotate=true&quality=95&type=w750&src=https%3A%2F%2Fldb-phinf.pstatic.net%2F20221127_133%2F1669535593817xGXLP_JPEG%2F20221127_094951.jpg')\n",
    "fill9 = df_image_not_ok['콘텐츠명'] == '아차산 유아숲체험원'\n",
    "df_image_not_ok.loc[fill9,'대표이미지'] = df_image_not_ok.loc[fill9,'대표이미지'].fillna('https://search.pstatic.net/common/?autoRotate=true&quality=95&type=w750&src=https%3A%2F%2Fapis.naver.com%2Fplace%2Fpanorama%2Fthumbnail%2F948542095%2F0%3Fwidth%3D800%26height%3D400%26msgpad%3D1720500877809%26md%3DntE9Q3uSFxFCRMX381RpQVrI5jU%253D')\n",
    "fill10 = df_image_not_ok['콘텐츠명'] == '오동 유아숲체험원'\n",
    "df_image_not_ok.loc[fill10,'대표이미지'] = df_image_not_ok.loc[fill10,'대표이미지'].fillna('https://search.pstatic.net/common/?autoRotate=true&quality=95&type=w750&src=https%3A%2F%2Fldb-phinf.pstatic.net%2F20161214_97%2F1481690095287ejrhJ_JPEG%2F_1.jpg')\n",
    "fill11 = df_image_not_ok['콘텐츠명'] == '서울숲공원 유아숲체험원'\n",
    "df_image_not_ok.loc[fill11,'대표이미지'] = df_image_not_ok.loc[fill11,'대표이미지'].fillna('https://simg.pstatic.net/static.map/v2/map/staticmap.bin?center=127.038897%2C37.5493539&level=16&dataversion=172.83&caller=naver_mstore&markers=pos%3A127.038897%2037.5493539%7Ctype%3Ac%7Ccolor%3Ablue%7Clabel%3Arestaurant&w=400&h=200')\n",
    "fill12 = df_image_not_ok['콘텐츠명'] == '봉화산 유아숲체험원'\n",
    "df_image_not_ok.loc[fill12,'대표이미지'] = df_image_not_ok.loc[fill12,'대표이미지'].fillna('https://search.pstatic.net/common/?autoRotate=true&quality=95&type=w750&src=https%3A%2F%2Fapis.naver.com%2Fplace%2Fpanorama%2Fthumbnail%2F1082908676%2F0%3Fwidth%3D800%26height%3D400%26msgpad%3D1720501040620%26md%3Dysmpbw5kIPW7KgVpq1uesfyGziE%253D')\n",
    "fill13 = df_image_not_ok['콘텐츠명'] == '응봉공원 유아숲체험원'\n",
    "df_image_not_ok.loc[fill13,'대표이미지'] = df_image_not_ok.loc[fill13,'대표이미지'].fillna('https://search.pstatic.net/common/?autoRotate=true&type=w560_sharpen&src=https%3A%2F%2Fldb-phinf.pstatic.net%2F20211214_75%2F1639471889296IBMEa_PNG%2Fnoname02.png')\n",
    "fill14 = df_image_not_ok['콘텐츠명'] == '갈산 유아숲체험원'\n",
    "df_image_not_ok.loc[fill14,'대표이미지'] = df_image_not_ok.loc[fill14,'대표이미지'].fillna('https://cafeptthumb-phinf.pstatic.net/MjAyMTAyMjdfMjY0/MDAxNjE0NDEwNzgyNzIy.rUuFLYONp1JhslzqobWTY-VXyso39IAZsZko_UuOOtcg.B2j5KgF-XJustbzVyZ8SVla1XxMyDYKwnTYenQU6ENMg.JPEG/20210227%EF%BC%BF160130.jpg?type=w1600')\n",
    "fill15 = df_image_not_ok['콘텐츠명'] == '잣절 유아숲체험원'\n",
    "df_image_not_ok.loc[fill15,'대표이미지'] = df_image_not_ok.loc[fill15,'대표이미지'].fillna('https://search.pstatic.net/common/?autoRotate=true&quality=95&type=w750&src=https%3A%2F%2Fapis.naver.com%2Fplace%2Fpanorama%2Fthumbnail%2F1242646060%2F0%3Fwidth%3D800%26height%3D400%26msgpad%3D1720501270112%26md%3DOtsyPm6Lk9kqJZ2Oup9FluI99ro%253D')\n",
    "fill16 = df_image_not_ok['콘텐츠명'] == '인왕산 유아숲체험원'\n",
    "df_image_not_ok.loc[fill16,'대표이미지'] = df_image_not_ok.loc[fill16,'대표이미지'].fillna('https://search.pstatic.net/common/?autoRotate=true&type=w560_sharpen&src=http%3A%2F%2Fblogfiles.naver.net%2F20160607_232%2Fdufenwkqhs_1465253039064oUK7q_JPEG%2F20160606_111848.jpg')\n",
    "fill17 = df_image_not_ok['콘텐츠명'] == '참나무본가'\n",
    "df_image_not_ok.loc[fill17,'대표이미지'] = df_image_not_ok.loc[fill17,'대표이미지'].fillna('https://search.pstatic.net/common/?autoRotate=true&type=w560_sharpen&src=https%3A%2F%2Fldb-phinf.pstatic.net%2F20231128_228%2F1701175860708Ntq4x_JPEG%2FDSC_0377.JPG')\n",
    "fill18 = df_image_not_ok['콘텐츠명'] == 'KKD 메세나폴리스점'\n",
    "df_image_not_ok.loc[fill18,'대표이미지'] = df_image_not_ok.loc[fill18,'대표이미지'].fillna('https://search.pstatic.net/common/?autoRotate=true&type=w560_sharpen&src=https%3A%2F%2Fldb-phinf.pstatic.net%2F20220826_115%2F166149031744176Q6B_JPEG%2F%25B3%25D7%25C0%25CC%25B9%25F6_%25B4%25EB%25C7%25A5%25C0%25CC%25B9%25CC%25C1%25F6_1_%25B4%25EB%25C1%25F6_1_%25B4%25EB%25C1%25F6_1.jpg')\n",
    "fill19 = df_image_not_ok['콘텐츠명'] == '롯데리아 화곡점'\n",
    "df_image_not_ok.loc[fill19,'대표이미지'] = df_image_not_ok.loc[fill19,'대표이미지'].fillna('https://search.pstatic.net/common/?autoRotate=true&type=w560_sharpen&src=https%3A%2F%2Fldb-phinf.pstatic.net%2F20240207_300%2F1707268553325GfUKX_PNG%2F%25BA%25F1%25BA%25F6.png')\n",
    "fill20 = df_image_not_ok['콘텐츠명'] == '엔제리너스 수서화승통로'\n",
    "df_image_not_ok.loc[fill20,'대표이미지'] = df_image_not_ok.loc[fill20,'대표이미지'].fillna('https://search.pstatic.net/common/?autoRotate=true&type=w560_sharpen&src=https%3A%2F%2Fldb-phinf.pstatic.net%2F20220905_13%2F16623678242693JsIs_JPEG%2F%25BF%25A3%25C1%25A9%25B7%25CE%25B0%25ED1.jpg')\n",
    "fill21 = df_image_not_ok['콘텐츠명'] == '여백집'\n",
    "df_image_not_ok.loc[fill21,'대표이미지'] = df_image_not_ok.loc[fill21,'대표이미지'].fillna('https://search.pstatic.net/common/?autoRotate=true&quality=95&type=w750&src=https%3A%2F%2Fapis.naver.com%2Fplace%2Fpanorama%2Fthumbnail%2F37263605%2F0%3Fwidth%3D800%26height%3D400%26msgpad%3D1720503361820%26md%3Dk%252FZLVIRitemmpfT5fq0LbH7S3tA%253D')\n",
    "fill22 = df_image_not_ok['콘텐츠명'] == '이디야커피 송파한양점'\n",
    "df_image_not_ok.loc[fill22,'대표이미지'] = df_image_not_ok.loc[fill22,'대표이미지'].fillna('https://search.pstatic.net/common/?autoRotate=true&type=w560_sharpen&src=https%3A%2F%2Fldb-phinf.pstatic.net%2F20220905_13%2F16623678242693JsIs_JPEG%2F%25BF%25A3%25C1%25A9%25B7%25CE%25B0%25ED1.jpg')\n",
    "fill23 = df_image_not_ok['콘텐츠명'] == '엔제리너스 강남역사거리'\n",
    "df_image_not_ok.loc[fill23,'대표이미지'] = df_image_not_ok.loc[fill23,'대표이미지'].fillna('https://search.pstatic.net/common/?autoRotate=true&type=w560_sharpen&src=https%3A%2F%2Fldb-phinf.pstatic.net%2F20220905_13%2F16623678242693JsIs_JPEG%2F%25BF%25A3%25C1%25A9%25B7%25CE%25B0%25ED1.jpg')\n",
    "fill24 = df_image_not_ok['콘텐츠명'] == '최고갈비 신정네거리점'\n",
    "df_image_not_ok.loc[fill24,'대표이미지'] = df_image_not_ok.loc[fill24,'대표이미지'].fillna('https://search.pstatic.net/common/?autoRotate=true&type=w560_sharpen&src=https%3A%2F%2Fldb-phinf.pstatic.net%2F20230624_237%2F16875687698689EcQT_JPEG%2FKakaoTalk_20230624_100257907_02.jpg')\n",
    "fill25 = df_image_not_ok['콘텐츠명'] == '능이버섯백숙'\n",
    "df_image_not_ok.loc[fill25,'대표이미지'] = df_image_not_ok.loc[fill25,'대표이미지'].fillna('https://search.pstatic.net/common/?autoRotate=true&type=w560_sharpen&src=https%3A%2F%2Fldb-phinf.pstatic.net%2F20150831_80%2F1440988547507IDMRP_JPEG%2F11869184_0.jpg')\n",
    "fill26 = df_image_not_ok['콘텐츠명'] == '진국밥'\n",
    "df_image_not_ok.loc[fill26,'대표이미지'] = df_image_not_ok.loc[fill26,'대표이미지'].fillna('https://search.pstatic.net/common/?autoRotate=true&quality=95&type=w750&src=https%3A%2F%2Fldb-phinf.pstatic.net%2F20200419_121%2F1587273541081LnGAm_JPEG%2FbJQtZk40haGUYnT8XJBHqpmH.jpeg.jpg')\n",
    "fill27 = df_image_not_ok['콘텐츠명'] == '고덕명가굽은다리'\n",
    "df_image_not_ok.loc[fill27,'대표이미지'] = df_image_not_ok.loc[fill27,'대표이미지'].fillna('https://search.pstatic.net/common/?autoRotate=true&type=w560_sharpen&src=https%3A%2F%2Fldb-phinf.pstatic.net%2F20211217_42%2F1639730321611ONiWH_JPEG%2F1639730309209.jpg')\n",
    "fill28 = df_image_not_ok['콘텐츠명'] == '이바돔감자탕 강동역점'\n",
    "df_image_not_ok.loc[fill28,'대표이미지'] = df_image_not_ok.loc[fill28,'대표이미지'].fillna('https://search.pstatic.net/common/?autoRotate=true&type=w560_sharpen&src=https%3A%2F%2Fldb-phinf.pstatic.net%2F20190323_288%2F1553310128159jkkMI_JPEG%2F7J62zZ_SoatQ7F5KShcB4QSV.jpg')\n",
    "fill29 = df_image_not_ok['콘텐츠명'] == '엔제리너스 영등포점'\n",
    "df_image_not_ok.loc[fill29,'대표이미지'] = df_image_not_ok.loc[fill29,'대표이미지'].fillna('https://search.pstatic.net/common/?autoRotate=true&type=w560_sharpen&src=https%3A%2F%2Fldb-phinf.pstatic.net%2F20220905_13%2F16623678242693JsIs_JPEG%2F%25BF%25A3%25C1%25A9%25B7%25CE%25B0%25ED1.jpg')\n",
    "fill30 = df_image_not_ok['콘텐츠명'] == '황금터'\n",
    "df_image_not_ok.loc[fill30,'대표이미지'] = df_image_not_ok.loc[fill30,'대표이미지'].fillna('https://search.pstatic.net/common/?autoRotate=true&type=w560_sharpen&src=https%3A%2F%2Fldb-phinf.pstatic.net%2F20201230_285%2F1609318768167s1vY9_JPEG%2FQFkgU3rfltF6pa1Yd0CRTi1O.jpg')\n",
    "fill31 = df_image_not_ok['콘텐츠명'] == '대가이바지 감자탕'\n",
    "df_image_not_ok.loc[fill31,'대표이미지'] = df_image_not_ok.loc[fill31,'대표이미지'].fillna('https://postfiles.pstatic.net/MjAyMzExMjFfMjE3/MDAxNzAwNTMyMTUzMDU3.3wRwLnw_C2YXdAIIc3iupHOmm8dQZPmXxmpXv4hllI8g.zV5FY452YbDYfhD6O1YjGriOHmhARStPJC24VMjrrmcg.JPEG.wlgml2467/SE-f3bb2c87-d8fc-425e-8f9a-48abe1a9d448.jpg?type=w966')\n",
    "fill32 = df_image_not_ok['콘텐츠명'] == '마포갈비집'\n",
    "df_image_not_ok.loc[fill32,'대표이미지'] = df_image_not_ok.loc[fill32,'대표이미지'].fillna('https://postfiles.pstatic.net/20121112_291/lunaticrrr_13526521663004PBrz_JPEG/IMG_8880.JPG?type=w1')\n",
    "fill33 = df_image_not_ok['콘텐츠명'] == '능이오리백숙'\n",
    "df_image_not_ok.loc[fill33,'대표이미지'] = df_image_not_ok.loc[fill33,'대표이미지'].fillna('https://search.pstatic.net/common/?autoRotate=true&type=w560_sharpen&src=https%3A%2F%2Fldb-phinf.pstatic.net%2F20150901_113%2F1441079763677q0hdN_JPEG%2F156060554657159_0.jpeg')\n",
    "fill34 = df_image_not_ok['콘텐츠명'] == '건대스타시티'\n",
    "df_image_not_ok.loc[fill34,'대표이미지'] = df_image_not_ok.loc[fill34,'대표이미지'].fillna('https://search.pstatic.net/common/?autoRotate=true&quality=95&type=w750&src=https%3A%2F%2Fapis.naver.com%2Fplace%2Fpanorama%2Fthumbnail%2F1041320352%2F0%3Fwidth%3D800%26height%3D400%26msgpad%3D1720541278296%26md%3D%252BiWCv%252FJHcbqGE6kDx%252Fjt%252BWUicvI%253D')\n",
    "fill35 = df_image_not_ok['콘텐츠명'] == '키즈카페'\n",
    "df_image_not_ok.loc[fill35,'대표이미지'] = df_image_not_ok.loc[fill35,'대표이미지'].fillna('https://search.pstatic.net/common/?autoRotate=true&type=w560_sharpen&src=https%3A%2F%2Fldb-phinf.pstatic.net%2F20200604_63%2F159126266148148e9H_JPEG%2F%25BD%25E6%25B3%25D7%25C0%25CF%2528%25C1%25A4%25BB%25E8%25B0%25A2%25C7%25FC%2529.jpg')\n",
    "fill36 = df_image_not_ok['콘텐츠명'] == '서울형 키즈카페 서초구 방배2동점'\n",
    "df_image_not_ok.loc[fill36,'대표이미지'] = df_image_not_ok.loc[fill36,'대표이미지'].fillna('https://search.pstatic.net/common/?autoRotate=true&quality=95&type=w750&src=https%3A%2F%2Fapis.naver.com%2Fplace%2Fpanorama%2Fthumbnail%2F1535586045%2F0%3Fwidth%3D800%26height%3D400%26msgpad%3D1720541960570%26md%3Dw8B2nmlRYyEMC%252FTnTWdsvbRbRFE%253D')\n"
   ]
  },
  {
   "cell_type": "code",
   "execution_count": null,
   "id": "33d3e50d",
   "metadata": {},
   "outputs": [],
   "source": [
    "\"\"\"\n",
    "서울특별시 강동구 고덕로 421\t참나무본가 - 주소 잘못된듯\n",
    "서울특별시 마포구 서강로 137\t롯데리아 신촌로터리 - 폐점 \n",
    "서울특별시 강남구 광평로51길 27\t엔제리너스 수서화승통로 - 수서환승통로점임 \n",
    "서울특별시 동작구 흑석로11길 4\t엉터리서민갈비중앙대점 - 폐점 \n",
    "서울특별시 관악구 신원로 35\t순두부와 청국장 그리고 찜 - 폐점 \n",
    "서울특별시 양천구 신정로11길 50-15\t키즈팡 - 폐점\n",
    "\"\"\""
   ]
  },
  {
   "cell_type": "code",
   "execution_count": 59,
   "id": "b720b018",
   "metadata": {},
   "outputs": [],
   "source": [
    "df_image_not_ok.drop(columns='Unnamed: 0',inplace=True)"
   ]
  },
  {
   "cell_type": "code",
   "execution_count": 61,
   "id": "a62dd44c",
   "metadata": {},
   "outputs": [
    {
     "data": {
      "text/plain": [
       "콘텐츠명                   0\n",
       "구명                     0\n",
       "새주소[도로명 주소]           44\n",
       "지번주소                  31\n",
       "좌표[X]                  0\n",
       "좌표[Y]                  0\n",
       "전화번호                 133\n",
       "주요시설                 860\n",
       "중분류                    0\n",
       "대분류                    0\n",
       "실내_실외                  0\n",
       "시군                   286\n",
       "키워드                  292\n",
       "웹URL                 640\n",
       "키즈메뉴(아이가먹을수있는 메뉴)    319\n",
       "유아용품                 318\n",
       "영업시간                 320\n",
       "주차가능여부               286\n",
       "무료구분                 857\n",
       "운영일                  857\n",
       "휴관일                  857\n",
       "이용정원(기관)             857\n",
       "이용정원(개인)             857\n",
       "신청가능연령               857\n",
       "대표이미지                  4\n",
       "시설소개                 888\n",
       "카테고리_키워드               0\n",
       "전체_키워드                 0\n",
       "query                  0\n",
       "kakao_review           0\n",
       "kakao_review_cnt       0\n",
       "naver_query            0\n",
       "naver_review         888\n",
       "naver_review_cnt     888\n",
       "dtype: int64"
      ]
     },
     "execution_count": 61,
     "metadata": {},
     "output_type": "execute_result"
    }
   ],
   "source": [
    "df_image_not_ok"
   ]
  },
  {
   "cell_type": "code",
   "execution_count": 62,
   "id": "f0863446",
   "metadata": {},
   "outputs": [
    {
     "data": {
      "text/plain": [
       "1566"
      ]
     },
     "execution_count": 62,
     "metadata": {},
     "output_type": "execute_result"
    }
   ],
   "source": [
    "finish_image = pd.concat([df_image_not_ok,df_image_ok])\n",
    "len(finish_image)"
   ]
  },
  {
   "cell_type": "code",
   "execution_count": 66,
   "id": "48615e3c",
   "metadata": {},
   "outputs": [],
   "source": [
    "finish_image.to_excel('data_image_ok.xlsx',index=False)"
   ]
  },
  {
   "cell_type": "code",
   "execution_count": null,
   "id": "34b43040",
   "metadata": {},
   "outputs": [],
   "source": []
  }
 ],
 "metadata": {
  "kernelspec": {
   "display_name": "Python 3 (ipykernel)",
   "language": "python",
   "name": "python3"
  },
  "language_info": {
   "codemirror_mode": {
    "name": "ipython",
    "version": 3
   },
   "file_extension": ".py",
   "mimetype": "text/x-python",
   "name": "python",
   "nbconvert_exporter": "python",
   "pygments_lexer": "ipython3",
   "version": "3.11.5"
  }
 },
 "nbformat": 4,
 "nbformat_minor": 5
}
